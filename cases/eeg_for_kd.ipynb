{
 "cells": [
  {
   "cell_type": "markdown",
   "metadata": {
    "nbpresent": {
     "id": "02fc9ade-af73-41b7-99be-cc60a8f829c2"
    }
   },
   "source": [
    "# EEG Analysis: Arousal-Valence for Keystroke Dynamics"
   ]
  },
  {
   "cell_type": "code",
   "execution_count": 1,
   "metadata": {
    "nbpresent": {
     "id": "7e91a6a9-6fd3-49a3-a4f7-7f80d4341322"
    }
   },
   "outputs": [
    {
     "name": "stderr",
     "output_type": "stream",
     "text": [
      "/usr/lib/python3/dist-packages/matplotlib/cbook/deprecation.py:106: MatplotlibDeprecationWarning: The mpl_toolkits.axes_grid module was deprecated in version 2.1. Use mpl_toolkits.axes_grid1 and mpl_toolkits.axisartist provies the same functionality instead.\n",
      "  warnings.warn(message, mplDeprecation, stacklevel=1)\n"
     ]
    }
   ],
   "source": [
    "try:\n",
    "    import sys\n",
    "    import matplotlib as mpl\n",
    "\n",
    "    SUBJECT = int(sys.argv[1])\n",
    "    mpl.use('Agg')\n",
    "    INTERACTIVE = False\n",
    "except:\n",
    "    %reset -f\n",
    "    import matplotlib as mpl\n",
    "\n",
    "    SUBJECT = 5\n",
    "    INTERACTIVE = True\n",
    "\n",
    "import os\n",
    "import json\n",
    "import pprint\n",
    "import math\n",
    "import itertools\n",
    "import pandas\n",
    "import numpy as np\n",
    "import matplotlib.patches as mpatches\n",
    "import matplotlib.lines as mlines\n",
    "import matplotlib as mpl\n",
    "\n",
    "from matplotlib import pyplot as plt\n",
    "from IPython.display import set_matplotlib_formats\n",
    "from collections import defaultdict\n",
    "\n",
    "set_matplotlib_formats('png', 'pdf')\n",
    "\n",
    "from mpl_toolkits.axes_grid1.axes_grid import AxesGrid\n",
    "from mpl_toolkits.axes_grid.anchored_artists import AnchoredText\n",
    "\n",
    "from sklearn import preprocessing\n",
    "from scipy import signal\n",
    "from scipy import stats\n",
    "#from matplotlib2tikz import save as tikz_save, get_tikz_code\n",
    "\n",
    "pgf_with_latex = {  # setup matplotlib to use latex for output\n",
    "    \"pgf.texsystem\": \"pdflatex\",  # change this if using xetex or lautex\n",
    "    \"text.usetex\": True,  # use LaTeX to write all text\n",
    "    \"font.family\": \"serif\",\n",
    "    \"legend.fancybox\": False,\n",
    "    \"legend.shadow\": False,\n",
    "\n",
    "    'xtick.major.size': 3,\n",
    "    'xtick.major.width': 0.3,\n",
    "    'ytick.major.size': 3,\n",
    "    'ytick.major.width': 0.3,\n",
    "\n",
    "    \"pgf.preamble\": [\n",
    "        r\"\\usepackage[utf8x]{inputenc}\",  # use utf8 fonts becasue your computer can handle it :)\n",
    "    ]\n",
    "}\n",
    "\n",
    "mpl.rcParams.update(pgf_with_latex)\n",
    "\n",
    "\n",
    "def save_matrix(filename, matrix, fmt='%5.3f'):\n",
    "    np.savetxt(filename, matrix, fmt=fmt, delimiter=\" & \", newline='\\\\\\\\\\n')\n"
   ]
  },
  {
   "cell_type": "markdown",
   "metadata": {
    "nbpresent": {
     "id": "fe47429f-7ad1-461d-8ddc-ea78c89f70e2"
    }
   },
   "source": [
    "## Configuration"
   ]
  },
  {
   "cell_type": "code",
   "execution_count": 2,
   "metadata": {},
   "outputs": [],
   "source": [
    "PHI = (np.sqrt(5) - 1.0) / 2.0\n",
    "LINEWIDTH = (52 / 9)  # width in inches\n",
    "\n",
    "\n",
    "def latexify(fig_width=None, fig_height=None, ratio=None, legend_fontsize=10, fontsize=10, tick_fontsize=8,\n",
    "             axes_fontsize=8):\n",
    "    \"\"\"Set up matplotlib's RC params for LaTeX plotting.\n",
    "    Call this before plotting a figure.\n",
    "    \"\"\"\n",
    "\n",
    "    # code adapted from http://www.scipy.org/Cookbook/Matplotlib/LaTeX_Examples\n",
    "    if fig_width is None:\n",
    "        fig_width = LINEWIDTH\n",
    "\n",
    "    if fig_height is None:\n",
    "        if not ratio:\n",
    "            ratio = PHI  # Aesthetic ratio\n",
    "        fig_height = fig_width * ratio  # height in inches\n",
    "\n",
    "    params = {'backend': 'ps',\n",
    "              'text.latex.preamble': ['\\\\usepackage{gensymb}'],\n",
    "              'axes.labelsize': axes_fontsize,  # fontsize for x and y labels (was 10)\n",
    "              'axes.titlesize': axes_fontsize,\n",
    "              'font.size': fontsize,\n",
    "              'legend.fontsize': legend_fontsize,  # was 10\n",
    "              'xtick.labelsize': tick_fontsize,\n",
    "              'ytick.labelsize': tick_fontsize,\n",
    "              'text.usetex': True,\n",
    "              'figure.figsize': [fig_width, fig_height],\n",
    "              'font.family': 'serif'\n",
    "              }\n",
    "\n",
    "    mpl.rcParams.update(params)"
   ]
  },
  {
   "cell_type": "code",
   "execution_count": 3,
   "metadata": {
    "nbpresent": {
     "id": "4d585471-7d8d-4548-b1de-c1631c5480a6"
    }
   },
   "outputs": [
    {
     "name": "stdout",
     "output_type": "stream",
     "text": [
      "Subject: 5\n"
     ]
    }
   ],
   "source": [
    "print('Subject: {}'.format(SUBJECT))\n",
    "EPOCH_TYPE = \"4s-1s\"\n",
    "RELAX_START_OFFSET = 0\n",
    "RELAX_END_OFFSET = 0\n",
    "\n",
    "SUBJECTS = ('02', '14', '04', '08', '01', '07', '06', '05', '16', '13', '03', '12')\n",
    "SUBJECTS_SESSIONS = {\n",
    "    '02': {'folder': 'session-2016.12.19-21.18-v02@eic', 'day': 0},\n",
    "    '14': {'folder': 'session-2016.12.19-22.48-v14@eic', 'day': 0},\n",
    "    '04': {'folder': 'session-2016.12.26-19.22-v04@eic', 'day': 7},\n",
    "    '08': {'folder': 'session-2016.12.26-22.12-v08@eic', 'day': 7},\n",
    "    '01': {'folder': 'session-2016.12.27-12.36-v01@eic', 'day': 8},\n",
    "    '07': {'folder': 'session-2016.12.27-16.16-v07@eic', 'day': 8},\n",
    "    '06': {'folder': 'session-2016.12.27-18.44-v06@eic', 'day': 8},\n",
    "    '05': {'folder': 'session-2016.12.27-20.17-v05@eic', 'day': 8},\n",
    "    '16': {'folder': 'session-2016.12.27-21.46-v16@eic', 'day': 8},\n",
    "    '13': {'folder': 'session-2016.12.28-21.45-v13@eic', 'day': 9},\n",
    "    '03': {'folder': 'session-2016.12.29-13.20-v03@eic', 'day': 10},\n",
    "    '12': {'folder': 'session-2016.12.29-21.25-v12@eic', 'day': 10}\n",
    "}\n",
    "\n",
    "RAW_DIR_DATA = './../raw_data_data/'\n",
    "RAW_DIR_TIMING = './../raw_data_timings/'\n",
    "EEG_DIR = '../eeg/results/' + EPOCH_TYPE + '/'\n",
    "EEG_FILENAME = 'v{0}.electrodes.data.csv'\n",
    "AV_FILENAME = 'v{0}.av{1}.data.csv'\n",
    "TIMESTAMPS_FILENAME = 'v{0}.timestamps.json'\n",
    "GENERIC_FILENAME = 'v{0}'\n",
    "AV_DIR = './data/'\n",
    "RAW_EEG_DIR = 'eeg/'\n",
    "RAW_DATA_FILENAME = 'data.json'\n",
    "RAW_EEG_TIMING_FILENAME = 'timing.data'\n",
    "\n",
    "selected_subject = SUBJECTS[SUBJECT]\n",
    "\n",
    "# EEG\n",
    "eeg_path = os.path.join(EEG_DIR, EEG_FILENAME.format(selected_subject))\n",
    "eeg = np.genfromtxt(eeg_path, delimiter=',', skip_header=True, dtype=np.float64)\n",
    "\n",
    "# EEG timing\n",
    "eeg_timing_path = os.path.join(RAW_DIR_TIMING, SUBJECTS_SESSIONS[selected_subject]['folder'], RAW_EEG_DIR,\n",
    "                               RAW_EEG_TIMING_FILENAME)\n",
    "eeg_timing_file = open(eeg_timing_path)\n",
    "eeg_timing = json.load(eeg_timing_file)\n",
    "eeg_timing_file.close()\n",
    "\n",
    "# Session data\n",
    "raw_path = os.path.join(RAW_DIR_DATA, SUBJECTS_SESSIONS[selected_subject]['folder'], RAW_DATA_FILENAME)\n",
    "raw_file = open(raw_path)\n",
    "raw = json.load(raw_file)\n",
    "raw_file.close()\n",
    "\n",
    "# AV Data\n",
    "av_path_non_standarized = os.path.join(AV_DIR, EPOCH_TYPE, AV_FILENAME.format(selected_subject, '_non_standarized'))\n",
    "av_path_standarized = os.path.join(AV_DIR, EPOCH_TYPE, AV_FILENAME.format(selected_subject, '_standarized'))\n",
    "av_path_standarized_scaled = os.path.join(AV_DIR, EPOCH_TYPE,\n",
    "                                          AV_FILENAME.format(selected_subject, '_standarized_scaled'))\n",
    "av_path_standarized_cropped_scaled = os.path.join(AV_DIR, EPOCH_TYPE,\n",
    "                                                  AV_FILENAME.format(selected_subject, '_standarized_scaled_cropped'))\n",
    "\n",
    "\n",
    "def show(f, filename):\n",
    "    if INTERACTIVE:\n",
    "        plt.show()\n",
    "        print(\"show \" + './data/kd/{}-{}'.format(SUBJECT + 1, filename))\n",
    "    else:\n",
    "        f.savefig('./data/kd/{}-{}'.format(SUBJECT + 1, filename), bbox_inches='tight')\n",
    "\n",
    "\n",
    "def save_file(filename, contents):\n",
    "    if INTERACTIVE:\n",
    "        print(contents)\n",
    "    else:\n",
    "        file = open('./data/kd/{}-{}'.format(SUBJECT + 1, filename), 'wt')\n",
    "        file.write(contents)\n",
    "        file.close()\n",
    "\n",
    "\n",
    "def get_sam(phase):\n",
    "    for tp in ('images', 'audios', 'videos'):\n",
    "        data = raw['acquisition']['stimuli_phases'][phase]['stimuli'].get(tp)\n",
    "        if data:\n",
    "            a, v = data['asssessment']['arousal'], data['asssessment']['valence']\n",
    "            yield (tp, int(a), int(v))"
   ]
  },
  {
   "cell_type": "markdown",
   "metadata": {
    "nbpresent": {
     "id": "39c6594b-a8b3-43d6-b98f-4a3729e7a11b"
    }
   },
   "source": [
    "## Timestamps and session segments"
   ]
  },
  {
   "cell_type": "markdown",
   "metadata": {
    "nbpresent": {
     "id": "afbec32c-f597-4be3-9ab5-d386d9581a37"
    }
   },
   "source": [
    "### Offset adjustment"
   ]
  },
  {
   "cell_type": "code",
   "execution_count": 4,
   "metadata": {
    "nbpresent": {
     "id": "b485b97a-3329-4f40-a932-4888cd73da01"
    }
   },
   "outputs": [],
   "source": [
    "#\n",
    "# Add a synchronization factor to avoid the desynchronization of the acquisition server\n",
    "#\n",
    "def desynchronization_offset(day):\n",
    "    return day * 731.8 + 100\n",
    "\n",
    "\n",
    "eeg_timing['start']['timestamp'] = ((int(eeg_timing['start']['timestamp']) * 1000) - desynchronization_offset(\n",
    "    SUBJECTS_SESSIONS[selected_subject]['day'])) / 1000\n"
   ]
  },
  {
   "cell_type": "markdown",
   "metadata": {
    "nbpresent": {
     "id": "40e31643-4ca6-4a75-8dd4-ad20219434af"
    }
   },
   "source": [
    "### Session segments"
   ]
  },
  {
   "cell_type": "code",
   "execution_count": 5,
   "metadata": {
    "nbpresent": {
     "id": "99668ea6-fe57-44ec-a11e-672905cb2801"
    },
    "scrolled": true
   },
   "outputs": [],
   "source": [
    "# Search the event 'experiment' within the log\n",
    "experiment_start = next((x for x in raw['log'] if x['event'] == 'experiment' and x['status'] == 's'), None)\n",
    "experiment_end = next((x for x in raw['log'] if x['event'] == 'experiment' and x['status'] == 'e'), None)\n",
    "# Search the event 'relaxation' within the log\n",
    "relaxation_start = next((x for x in raw['log'] if x['event'] == 'relaxation' and x['status'] == 's'), None)\n",
    "relaxation_end = next((x for x in raw['log'] if x['event'] == 'relaxation' and x['status'] == 'e'), None)\n",
    "# Search the event 'relaxation' within the log\n",
    "writing_start = next((x for x in raw['log'] if x['event'] == 'writing' and x['status'] == 's'), None)\n",
    "writing_end = next((x for x in raw['log'] if x['event'] == 'writing' and x['status'] == 'e'), None)\n",
    "\n",
    "# Get timestamps\n",
    "ts_eeg_start = int(eeg_timing['start']['timestamp'] * 1000)\n",
    "ts_experiment_start = experiment_start['timestamp']\n",
    "ts_experiment_end = experiment_end['timestamp']\n",
    "ts_relaxation_start = relaxation_start['timestamp'] + RELAX_START_OFFSET * 1000\n",
    "ts_relaxation_end = relaxation_end['timestamp'] - 1 - RELAX_END_OFFSET * 1000\n",
    "ts_writing_start = writing_start['timestamp']\n",
    "ts_writing_end = writing_end['timestamp']\n",
    "\n",
    "# Calculate upper and lower limits of the experimental session\n",
    "delta_eeg_experiment_start = (ts_experiment_start - ts_eeg_start) / 1000\n",
    "delta_eeg_experiment_end = (ts_experiment_end - ts_eeg_start) / 1000\n",
    "# Calculate upper and lower limits of the relaxation phase in the experimental session\n",
    "delta_eeg_relaxation_start = (ts_relaxation_start - ts_eeg_start) / 1000\n",
    "delta_eeg_relaxation_end = (ts_relaxation_end - ts_eeg_start) / 1000\n",
    "# Calculate upper and lower limits of the writing phase in the experimental session\n",
    "delta_eeg_writing_start = (ts_writing_start - ts_eeg_start) / 1000\n",
    "delta_eeg_writing_end = (ts_writing_end - ts_eeg_start) / 1000\n",
    "\n",
    "\n",
    "def relativize_timestamp(ts):\n",
    "    return (ts - ts_eeg_start) / 1000\n",
    "\n",
    "\n",
    "timestamps = {}\n",
    "_active = None\n",
    "\n",
    "for log in raw['log']:\n",
    "\n",
    "    # Debug\n",
    "    # print(log['event'], log['status'], log['timestamp'], relativize_timestamp(log['timestamp']))\n",
    "\n",
    "    if log['event'] == 'phase' and log['status'] == 's':\n",
    "        _active = int(log['event_id'])\n",
    "        timestamps[_active] = {}\n",
    "        timestamps[_active]['start'] = relativize_timestamp(log['timestamp'])\n",
    "        continue\n",
    "\n",
    "    elif log['event'] == 'phase' and log['status'] == 'e':\n",
    "        timestamps[_active]['end'] = relativize_timestamp(log['timestamp'])\n",
    "        _active = None\n",
    "\n",
    "    elif not _active:\n",
    "        continue\n",
    "\n",
    "    if not log['event'] in {'image', 'images', 'videos', 'audios', 'writing'}:\n",
    "        continue\n",
    "\n",
    "    elif not log['event'] in timestamps[_active]:\n",
    "        timestamps[_active][log['event']] = []\n",
    "\n",
    "        # Debug\n",
    "    # print(log['timestamp'], relativize_timestamp(log['timestamp']))\n",
    "\n",
    "    log_aux = log.copy()\n",
    "    log_aux['timestamp'] = relativize_timestamp(log['timestamp'])\n",
    "    timestamps[_active][log['event']].append(log_aux)"
   ]
  },
  {
   "cell_type": "markdown",
   "metadata": {
    "nbpresent": {
     "id": "16960800-d9c1-4f71-8e6c-7cff9c8b59a1"
    }
   },
   "source": [
    "## Signal smoothing\n",
    "\n",
    "The EEG signal is smoothed applying a convolution with a gaussian kernel. The number of points of the gaussian curve is four times the standard deviation value to one side, i.e., the standard deviation times four times two."
   ]
  },
  {
   "cell_type": "code",
   "execution_count": 6,
   "metadata": {
    "nbpresent": {
     "id": "a6b2dd69-3a53-4215-b0ab-02223fb3cbd9"
    }
   },
   "outputs": [],
   "source": [
    "# win = signal.gaussian(96, std=8)\n",
    "# win = signal.gaussian(64, std=8)\n",
    "win = signal.gaussian(128, std=128)\n",
    "\n",
    "eeg_smoothed = np.copy(eeg)\n",
    "eeg_smoothed[:, 3] = signal.convolve(eeg_smoothed[:, 3], win, mode='same') / sum(win)\n",
    "eeg_smoothed[:, 4] = signal.convolve(eeg_smoothed[:, 4], win, mode='same') / sum(win)\n",
    "eeg_smoothed[:, 5] = signal.convolve(eeg_smoothed[:, 5], win, mode='same') / sum(win)\n",
    "eeg_smoothed[:, 6] = signal.convolve(eeg_smoothed[:, 6], win, mode='same') / sum(win)\n",
    "eeg_smoothed[:, 7] = signal.convolve(eeg_smoothed[:, 7], win, mode='same') / sum(win)\n",
    "eeg_smoothed[:, 8] = signal.convolve(eeg_smoothed[:, 8], win, mode='same') / sum(win)\n",
    "eeg_smoothed[:, 9] = signal.convolve(eeg_smoothed[:, 9], win, mode='same') / sum(win)\n",
    "eeg_smoothed[:, 10] = signal.convolve(eeg_smoothed[:, 10], win, mode='same') / sum(win)\n"
   ]
  },
  {
   "cell_type": "code",
   "execution_count": 7,
   "metadata": {
    "nbpresent": {
     "id": "b15258df-c1d8-4b3f-a929-04a203aab326"
    }
   },
   "outputs": [
    {
     "data": {
      "image/png": "[encoded data removed]",
      "text/plain": [
       "<matplotlib.figure.Figure at 0x7f94d9f4ecf8>"
      ]
     },
     "metadata": {},
     "output_type": "display_data"
    },
    {
     "name": "stdout",
     "output_type": "stream",
     "text": [
      "show ./data/kd/6-eeg.pdf\n"
     ]
    }
   ],
   "source": [
    "NUMBER_OF_GRAPHS = 8\n",
    "latexify(ratio=PHI * 1.3)\n",
    "\n",
    "# Subplots sharing both x/y axes\n",
    "f, axes = plt.subplots(NUMBER_OF_GRAPHS, sharex=True, sharey=True)\n",
    "\n",
    "for i, name in enumerate(('$F3\\\\ \\\\alpha$', '$F3\\\\ \\\\beta$',\n",
    "                          '$F4\\\\ \\\\alpha$', '$F4\\\\ \\\\beta$',\n",
    "                          '$AF3\\\\ \\\\alpha$', '$AF3\\\\ \\\\beta$',\n",
    "                          '$AF4\\\\ \\\\alpha$', '$AF4\\\\ \\\\beta$')):\n",
    "    #\n",
    "    # SIGNALS\n",
    "    #\n",
    "\n",
    "    # Alpha & beta frequency bands\n",
    "    axes[i].plot(eeg[:, 1], eeg[:, i + 3], color=str(0.7), linewidth=0.3)\n",
    "\n",
    "    # Smoothed signal\n",
    "    axes[i].plot(eeg_smoothed[:, 1], eeg_smoothed[:, i + 3], color='k', linewidth=0.4)\n",
    "\n",
    "    #\n",
    "    # LINES\n",
    "    #\n",
    "\n",
    "    # Relaxation separators\n",
    "    axes[i].axvline(delta_eeg_relaxation_start, color='#111111', linestyle='--', linewidth=0.4)\n",
    "\n",
    "    axes[i].tick_params(axis='both', direction='in', color='#aaaaaa')\n",
    "\n",
    "    # keystroke\n",
    "    for p in timestamps:\n",
    "        axes[i].axvline(timestamps[p]['start'], color='#111111', linestyle='-', linewidth=0.4)\n",
    "        axes[i].axvline(timestamps[p]['end'], color='#111111', linestyle='-', linewidth=0.4)\n",
    "        if 'writing' in timestamps[p]:\n",
    "            sta = timestamps[p]['writing'][0]['timestamp']\n",
    "            end = timestamps[p]['writing'][1]['timestamp']\n",
    "            axes[i].axvspan(sta, end, facecolor='#dddddd', linewidth=0)\n",
    "\n",
    "    # Axes limits\n",
    "    axes[i].set_ylim([0, 10])\n",
    "    axes[i].yaxis.set_ticks([2.5, 5, 7.5, 10])\n",
    "    axes[i].yaxis.grid(b=True, color='#cccccc',linestyle='dotted', linewidth=0.4)\n",
    "    axes[i].set_ylabel(name, rotation=45, labelpad=10)\n",
    "    for axis in ['top', 'bottom', 'left', 'right']:\n",
    "        axes[i].spines[axis].set_linewidth(0.4)\n",
    "\n",
    "axes[7].set_xlabel(\"Tiempo [s]\", rotation=0, labelpad=10)\n",
    "\n",
    "# Fine-tune figure; make subplots close to each other and hide x ticks for\n",
    "# all but bottom plot.\n",
    "f.subplots_adjust(hspace=0)\n",
    "plt.setp([a.get_xticklabels() for a in f.axes[:-1]], visible=False)\n",
    "\n",
    "# draw or save it\n",
    "plt.draw()\n",
    "show(f, 'eeg.pdf')"
   ]
  },
  {
   "cell_type": "markdown",
   "metadata": {
    "nbpresent": {
     "id": "cd07ccac-2ca4-49f7-a10d-da6cee5effb6"
    }
   },
   "source": [
    "## Arousal-Valence models\n",
    "\n",
    "### Ramirez model\n",
    "\n",
    "\\begin{align}\n",
    "\\begin{cases} \n",
    "     Arousal = {\\beta\\over\\alpha} = {{\\beta_{F3} + \\beta_{F4}}\\over{\\alpha_{F3} + \\alpha_{F4}}} \\\\\n",
    "     Valence = {\\alpha_{F4} \\over \\beta_{F4}} - {\\alpha_{F3} \\over \\beta_{F3}}\n",
    "\\end{cases}\n",
    "\\end{align}\n",
    "\n",
    "\n",
    "### Yurci model\n",
    "\n",
    "\\begin{align}\n",
    "\\begin{cases} \n",
    "     Arousal = {\\beta\\over\\alpha} = {{\\beta_{AF4} + \\beta_{AF3} + \\beta_{F4} + \\beta_{F3}}\\over{\\alpha_{AF4} + \\alpha_{AF3} + \\alpha_{F4} + \\alpha_{F3}}} \\\\\n",
    "     Valence = { \\beta_{AF4} + \\beta_{F4} \\over \\alpha_{AF4} + \\alpha_{F4} } - { \\beta_{AF3} + \\beta_{F3} \\over \\alpha_{AF3} + \\alpha_{F3} }\n",
    "\\end{cases}\n",
    "\\end{align}"
   ]
  },
  {
   "cell_type": "code",
   "execution_count": 8,
   "metadata": {
    "nbpresent": {
     "id": "a2b03f21-c5af-4d7e-969d-b632e8bd7c7e"
    }
   },
   "outputs": [],
   "source": [
    "def av_model_ramirez(row):\n",
    "    \"\"\" Row must be sorted to have the following order of inputs related to the electrodes: \n",
    "        F3, F4, AF3, AF4; with the following order of frequency band values: Alpha, Beta. \"\"\"\n",
    "\n",
    "    alpha = row[::2]  # Odd columns (alpha values)\n",
    "    beta = row[1::2]  # Even columns (beta values)\n",
    "\n",
    "    arousal = (beta[0] + beta[1]) / (alpha[0] + alpha[1])\n",
    "    valence = (alpha[1] / beta[1]) - (alpha[0] / beta[0])\n",
    "\n",
    "    return [arousal, valence]\n",
    "\n",
    "\n",
    "def av_model_yurci(row):\n",
    "    \"\"\" Row must be sorted to have the following order of inputs related to the electrodes: \n",
    "        F3, F4, AF3, AF4; with the following order of frequency band values: Alpha, Beta. \"\"\"\n",
    "\n",
    "    alpha = row[::2]  # Odd columns (alpha values)\n",
    "    beta = row[1::2]  # Even columns (beta values)\n",
    "\n",
    "    arousal = beta.sum() / alpha.sum()\n",
    "    valence = ((beta[3] + beta[1]) / (alpha[3] + alpha[1])) - ((beta[2] + beta[0]) / (alpha[2] + alpha[0]))\n",
    "    # valence = ((alpha[3] + alpha[1]) / (beta[3] + beta[1])) - ((alpha[2] + alpha[0]) / (beta[2] + beta[0]))\n",
    "\n",
    "    return [arousal, valence]"
   ]
  },
  {
   "cell_type": "markdown",
   "metadata": {
    "nbpresent": {
     "id": "c8f5e2b3-e66b-4ad7-a739-ca51a16309a7"
    }
   },
   "source": [
    "## Arousal-Valence calculation"
   ]
  },
  {
   "cell_type": "code",
   "execution_count": 9,
   "metadata": {
    "nbpresent": {
     "id": "6cda773d-9cbd-4298-8fb6-e7e7ad04fa9b"
    }
   },
   "outputs": [],
   "source": [
    "# Calculate arousal and valence with alpha and beta values\n",
    "arousal_valence = np.apply_along_axis(av_model_yurci, 1, eeg_smoothed[:, 3:])\n",
    "arousal_valence = np.concatenate((eeg_smoothed[:, :3], arousal_valence), axis=1)"
   ]
  },
  {
   "cell_type": "markdown",
   "metadata": {
    "nbpresent": {
     "id": "f4d956b0-828b-44e1-ac6c-56eda1b25f9c"
    }
   },
   "source": [
    "## Signal cropping\n",
    "\n",
    "The signal is cropped to get relevant segments of values."
   ]
  },
  {
   "cell_type": "code",
   "execution_count": 10,
   "metadata": {
    "nbpresent": {
     "id": "97e53f9b-6540-410f-881f-5a6050199124"
    }
   },
   "outputs": [],
   "source": [
    "# Crop EEG to keep only the rows that belong to the session\n",
    "av_session = np.copy(arousal_valence)\n",
    "av_session = av_session[av_session[:, 1] >= delta_eeg_experiment_start]\n",
    "av_session = av_session[av_session[:, 1] <= delta_eeg_experiment_end]\n",
    "\n",
    "# Crop EEG to keep only the rows that belong to the relaxation phase \n",
    "av_relaxation = np.copy(arousal_valence)\n",
    "av_relaxation = av_relaxation[av_relaxation[:, 1] >= delta_eeg_relaxation_start]\n",
    "av_relaxation = av_relaxation[av_relaxation[:, 1] <= delta_eeg_relaxation_end]\n",
    "\n",
    "# Crop EEG to keep only the rows that belong to the writing phase \n",
    "av_writing = np.copy(arousal_valence)\n",
    "av_writing = av_writing[av_writing[:, 1] >= delta_eeg_writing_start]\n",
    "av_writing = av_writing[av_writing[:, 1] <= delta_eeg_writing_end]"
   ]
  },
  {
   "cell_type": "markdown",
   "metadata": {
    "nbpresent": {
     "id": "bd75d0dc-d231-421f-a93b-77cac3e9bd03"
    }
   },
   "source": [
    "## Standarization of the Arousal-Valence values\n",
    "\n",
    "This step includes not only standardization, but also the cutting of values respect to the calculaded standard deviation, i.e., the dataset is cropped to keep only the values that are within the range $[-3\\sigma; 3\\sigma]$."
   ]
  },
  {
   "cell_type": "code",
   "execution_count": 11,
   "metadata": {
    "nbpresent": {
     "id": "11bcc580-8805-4254-98bd-42c067bbd445"
    }
   },
   "outputs": [
    {
     "data": {
      "text/plain": [
       "(1918, 5)"
      ]
     },
     "execution_count": 11,
     "metadata": {},
     "output_type": "execute_result"
    }
   ],
   "source": [
    "# Standarize the data (Z-Score normalization)\n",
    "scaler = preprocessing.StandardScaler().fit(av_relaxation[:, 3:])\n",
    "\n",
    "# print('Mean: \\t', scaler.mean_)\n",
    "# print('Std: \\t', scaler.scale_)\n",
    "\n",
    "av_session_non_standarized = np.copy(av_session)\n",
    "\n",
    "# Crop based on arousal axis\n",
    "av_session = av_session[av_session[:, 3] >= (scaler.mean_[0] - 3 * scaler.scale_[0])]\n",
    "av_session = av_session[av_session[:, 3] <= (scaler.mean_[0] + 3 * scaler.scale_[0])]\n",
    "# Crop based on valence axis\n",
    "av_session = av_session[av_session[:, 4] >= (scaler.mean_[1] - 3 * scaler.scale_[1])]\n",
    "av_session = av_session[av_session[:, 4] <= (scaler.mean_[1] + 3 * scaler.scale_[1])]\n",
    "\n",
    "av_session_standarized = np.concatenate(\n",
    "    (av_session_non_standarized[:, :3], scaler.transform(av_session_non_standarized[:, 3:])), axis=1)\n",
    "av_relaxation_standarized = np.concatenate((av_relaxation[:, :3], scaler.transform(av_relaxation[:, 3:])), axis=1)\n",
    "av_session_standarized_cropped = np.concatenate((av_session[:, :3], scaler.transform(av_session[:, 3:])), axis=1)\n",
    "\n",
    "av_session_standarized.shape\n",
    "av_session_standarized_cropped.shape"
   ]
  },
  {
   "cell_type": "code",
   "execution_count": 12,
   "metadata": {
    "nbpresent": {
     "id": "f18e1254-c80d-498f-b007-60075e4ff987"
    }
   },
   "outputs": [
    {
     "name": "stdout",
     "output_type": "stream",
     "text": [
      "Mean: \t [ -8.28824189e-15  -1.75002463e-15]\n",
      "Std: \t [ 1.  1.]\n",
      "Mean: \t [ 5.20860104  3.74947425]\n",
      "Std: \t [ 2.52403022  1.94418188]\n"
     ]
    }
   ],
   "source": [
    "# Scaling\n",
    "min_max_scaler = preprocessing.MinMaxScaler(feature_range=(1, 9))\n",
    "\n",
    "av_session_non_standarized_scaled = np.concatenate(\n",
    "    (av_session_non_standarized[:, :3], min_max_scaler.fit_transform(av_session_non_standarized[:, 3:])), axis=1)\n",
    "av_session_standarized_scaled = np.concatenate(\n",
    "    (av_session_standarized[:, :3], min_max_scaler.fit_transform(av_session_standarized[:, 3:])), axis=1)\n",
    "av_session_standarized_cropped_scaled = np.concatenate(\n",
    "    (av_session_standarized_cropped[:, :3], min_max_scaler.fit_transform(av_session_standarized_cropped[:, 3:])),\n",
    "    axis=1)\n",
    "\n",
    "##############################\n",
    "\n",
    "# '''\n",
    "scaler = preprocessing.StandardScaler().fit(av_relaxation_standarized[:, 3:])\n",
    "print('Mean: \\t', scaler.mean_)\n",
    "print('Std: \\t', scaler.scale_)\n",
    "\n",
    "av_relaxation_standarized_scaled = np.concatenate(\n",
    "    (av_relaxation_standarized[:, :3], min_max_scaler.fit_transform(av_relaxation_standarized[:, 3:])), axis=1)\n",
    "scaler = preprocessing.StandardScaler().fit(av_relaxation_standarized_scaled[:, 3:])\n",
    "print('Mean: \\t', scaler.mean_)\n",
    "print('Std: \\t', scaler.scale_)\n",
    "# '''"
   ]
  },
  {
   "cell_type": "markdown",
   "metadata": {
    "nbpresent": {
     "id": "bec00cef-1c04-4000-9ed6-7695647815dc"
    }
   },
   "source": [
    "## Plotting of standardized Arousal-Valence values with t-test"
   ]
  },
  {
   "cell_type": "code",
   "execution_count": 13,
   "metadata": {
    "nbpresent": {
     "id": "a786e0ab-5c18-487a-838a-e4c89e2ef5c7"
    }
   },
   "outputs": [
    {
     "data": {
      "image/png": "[encoded data removed]",
      "text/plain": [
       "<matplotlib.figure.Figure at 0x7f94d9f47390>"
      ]
     },
     "metadata": {},
     "output_type": "display_data"
    },
    {
     "name": "stdout",
     "output_type": "stream",
     "text": [
      "show ./data/kd/6-av_per_phase.pdf\n",
      "\n",
      "\\begin{table}\n",
      "  \\centering\n",
      "  \\begin{tabular}{rrccccp{0.5cm}cccc}\n",
      "    \\toprule\n",
      "    && \\multicolumn{4}{c}{Arousal} && \\multicolumn{4}{c}{Valence}\\\\\n",
      "    \\cmidrule{3-6}\\cmidrule(r){8-11}\n",
      "    \\verticalField{Estadístico}& Fase & 1 & 2 & 3 & 4 && 1 & 2 & 3 & 4 \\\\\n",
      "    \\cmidrule{3-6}\\cmidrule(r){8-11}\n",
      "& 1 & 15138 & 8016 & 0 & 0 && 15138 & 13651 & 13986 & 1534\\\\\n",
      "& 2 & 8016 & 12482 & 0 & 601 && 13651 & 12482 & 11914 & 605\\\\\n",
      "& 3 & 0 & 0 & 14964 & 12520 && 13986 & 11914 & 14964 & 900\\\\\n",
      "& 4 & 0 & 601 & 12520 & 16562 && 1534 & 605 & 900 & 16562\\\\\n",
      "\n",
      "    \\midrule\n",
      "   && \\multicolumn{4}{c}{Arousal} && \\multicolumn{4}{c}{Valence}\\\\\n",
      "    \\cmidrule{3-6}\\cmidrule(r){8-11}\n",
      "    \\verticalField{$p$-value}& Fase & 1 & 2 & 3 & 4 && 1 & 2 & 3 & 4 \\\\\n",
      "    \\cmidrule{3-6}\\cmidrule(r){8-11}\n",
      "& 1 & 1.000 & 0.000 & 0.000 & 0.000 && 1.000 & 0.914 & 0.255 & 0.000\\\\\n",
      "& 2 & 0.000 & 1.000 & 0.000 & 0.000 && 0.914 & 1.000 & 0.044 & 0.000\\\\\n",
      "& 3 & 0.000 & 0.000 & 1.000 & 0.001 && 0.255 & 0.044 & 1.000 & 0.000\\\\\n",
      "& 4 & 0.000 & 0.000 & 0.001 & 1.000 && 0.000 & 0.000 & 0.000 & 1.000\\\\\n",
      "\n",
      "    \\midrule\n",
      "    && \\multicolumn{4}{c}{Arousal} && \\multicolumn{4}{c}{Valence}\\\\\n",
      "    \\cmidrule{3-6}\\cmidrule(r){8-11}\n",
      "    \\verticalField{$H_0$ aceptada}& Fase & 1 & 2 & 3 & 4 && 1 & 2 & 3 & 4 \\\\\n",
      "    \\cmidrule{3-6}\\cmidrule(r){8-11}\n",
      "& 1 & A & NA & NA & NA && A & A & NA & NA\\\\\n",
      "& 2 & NA & A & NA & NA && A & A & NA & NA\\\\\n",
      "& 3 & NA & NA & A & NA && NA & NA & A & NA\\\\\n",
      "& 4 & NA & NA & NA & A && NA & NA & NA & A\\\\\n",
      "\n",
      "    \\bottomrule\n",
      "  \\end{tabular}\n",
      "  \\caption{Resultados de cambios de fase para el participante número 6.}\n",
      "  \\label{tab:eeg:6}\n",
      "\\end{table}\n"
     ]
    }
   ],
   "source": [
    "use = av_session_standarized_scaled\n",
    "stimuli = 'writing'  # 'images' # ['images'|'videos_audios']\n",
    "\n",
    "plt.close('all')\n",
    "latexify(ratio=0.8, legend_fontsize=6)\n",
    "\n",
    "COLS = 2\n",
    "ROWS = 2\n",
    "CONNECTION_STYLE = \"arc3,rad=0.3\"\n",
    "\n",
    "PHASE_NAMES = (\n",
    "    \"Fase 1\\\\\\\\HAPV\",\n",
    "    \"Fase 2\\\\\\\\LAPV\",\n",
    "    \"Fase 3\\\\\\\\LANV\",\n",
    "    \"Fase 4\\\\\\\\HANV\"\n",
    ")\n",
    "\n",
    "f, axis = plt.subplots(ROWS, COLS, sharex='col', sharey='row')\n",
    "f.subplots_adjust(left=None, bottom=None, right=None, top=None, wspace=0.00, hspace=0.00)\n",
    "f.text(0.5, 0.03, 'Valence', ha='center')\n",
    "f.text(0.05, 0.5, 'Arousal', va='center', rotation='vertical')\n",
    "\n",
    "phase_positioning = {1: [0, 1], 2: [1, 1], 3: [1, 0], 4: [0, 0]}\n",
    "\n",
    "axes = plt.gca()\n",
    "\n",
    "\n",
    "def addLabel(ax, t):\n",
    "    _at = AnchoredText(t, loc='lower left', prop={'size': 8}, borderpad=1)\n",
    "    _at.patch.set_boxstyle(\"square\", pad=0.3)\n",
    "    _at.patch.set_linewidth(0.3)\n",
    "    ax.add_artist(_at)\n",
    "    return _at\n",
    "\n",
    "\n",
    "writing_eeg = {}\n",
    "\n",
    "sam_markers = {\n",
    "    'audios': 'v',\n",
    "    'videos': '^',\n",
    "    'images': 'D'\n",
    "}\n",
    "\n",
    "sam_processed=[]\n",
    "eeg_processed=[]\n",
    "\n",
    "for phase_id in [1, 2, 3, 4]:\n",
    "    for _stimuli in stimuli.split('_'):\n",
    "        if not _stimuli in timestamps[phase_id]: continue\n",
    "\n",
    "        av_phase = np.copy(use)\n",
    "        av_phase = av_phase[av_phase[:, 1] >= timestamps[phase_id][_stimuli][0]['timestamp']]\n",
    "        av_phase = av_phase[av_phase[:, 1] <= timestamps[phase_id][_stimuli][1]['timestamp']]\n",
    "\n",
    "        label = '{\\\\noindent ' + PHASE_NAMES[phase_id - 1] + '}'\n",
    "        pos = phase_positioning[phase_id]\n",
    "        ax = axis[pos[0]][pos[1]]\n",
    "\n",
    "        ax.axhline(5, color='#aaaaaa', linewidth=0.5)\n",
    "        ax.axvline(5, color='#aaaaaa', linewidth=0.5)\n",
    "\n",
    "        ax.xaxis.set_ticks(np.arange(pos[1], 10 + pos[1], 1))\n",
    "        ax.yaxis.set_ticks(np.arange(1 - pos[0], 11 - pos[0], 1))\n",
    "        ax.tick_params(axis='both', direction='in', color='#aaaaaa')\n",
    "        ax.set_xlim([0, 10])\n",
    "        ax.set_ylim([0, 10])\n",
    "\n",
    "        for axis_pos in ['top', 'bottom', 'left', 'right']:\n",
    "            ax.spines[axis_pos].set_linewidth(0.4)\n",
    "\n",
    "        writing_eeg[phase_id] = av_phase[:, 3:]\n",
    "\n",
    "\n",
    "        # Correlation\n",
    "        def eigsorted(cov):\n",
    "            vals, vecs = np.linalg.eigh(cov)\n",
    "            order = vals.argsort()[::-1]\n",
    "            return vals[order], vecs[:, order]\n",
    "\n",
    "\n",
    "        x = av_phase[:, 4]  # valence\n",
    "        y = av_phase[:, 3]  # arousal\n",
    "\n",
    "        cov = np.cov(x, y)\n",
    "        vals, vecs = eigsorted(cov)\n",
    "        theta = np.degrees(np.arctan2(*vecs[:, 0][::-1]))\n",
    "        xymean=(np.mean(x), np.mean(y))\n",
    "        \n",
    "        for nstd in range(1, 10):\n",
    "            w, h = 4 * nstd * np.sqrt(vals)\n",
    "            ell = mpatches.Ellipse(xy=xymean,\n",
    "                                   width=w, height=h,\n",
    "                                   angle=theta, fill=False, color=str(1 - .6 ** nstd, ), linewidth=0.5)\n",
    "            ax.add_patch(ell)\n",
    "\n",
    "        eeg_processed.append((phase_id, np.array(xymean), cov))\n",
    "            \n",
    "        # SAM\n",
    "        sam_aux={}\n",
    "        for sam_type, sam_arousal, sam_valence in get_sam(str(phase_id)):\n",
    "            sam_aux[sam_type=='images']=(sam_type, sam_arousal, sam_valence)\n",
    "            ax.scatter(sam_valence, sam_arousal, color='k', label='SAM (%s)' % sam_type,\n",
    "                       marker=sam_markers[sam_type], alpha=1, s=25, linewidth=0.4)\n",
    "\n",
    "        sam_processed.append((phase_id, sam_aux))\n",
    "            \n",
    "        # Points\n",
    "        ax.scatter(av_phase[:, 4], av_phase[:, 3], color='k', label='EEG', alpha=0.2, linewidth=0)\n",
    "\n",
    "        # Mean\n",
    "        ax.scatter(np.mean(x), np.mean(y), color='k', marker='x', label='EEG Medio', alpha=1, s=25, linewidth=0.4)\n",
    "\n",
    "        ax.tick_params(axis='x', labelsize=6)\n",
    "        ax.tick_params(axis='y', labelsize=6)\n",
    "        addLabel(ax, label)\n",
    "\n",
    "legend_loc = 'lower right' if SUBJECT not in {0, 1, 2, 3, 4, 6, 8, 9, 11} else 'upper left'\n",
    "\n",
    "leg = plt.legend(loc=legend_loc)\n",
    "leg.get_frame().set_edgecolor('k')\n",
    "leg.get_frame().set_linewidth(0.5)\n",
    "\n",
    "plt.draw()\n",
    "show(f, 'av_per_phase.pdf')\n",
    "\n",
    "theoretical_a = [\n",
    "    [1, 0, 0, 1],\n",
    "    [0, 1, 1, 0],\n",
    "    [0, 1, 1, 0],\n",
    "    [1, 0, 0, 1]\n",
    "]\n",
    "\n",
    "theoretical_v = [\n",
    "    [1, 1, 0, 0],\n",
    "    [1, 1, 0, 0],\n",
    "    [0, 0, 1, 1],\n",
    "    [0, 0, 1, 1]\n",
    "]\n",
    "\n",
    "pval_matrix = np.zeros((4, 4, 2))\n",
    "statistic_matrix = np.zeros((4, 4, 2))\n",
    "hypo_theoretical_matrix = np.array([theoretical_a, theoretical_v], dtype=bool).T\n",
    "\n",
    "for phase_id_1 in [1, 2, 3, 4]:\n",
    "    for phase_id_2 in [1, 2, 3, 4]:\n",
    "        p1 = writing_eeg[phase_id_1]\n",
    "        p2 = writing_eeg[phase_id_2]\n",
    "\n",
    "        resulta = stats.mannwhitneyu(p1[:, 0], p2[:, 0])\n",
    "        resultv = stats.mannwhitneyu(p1[:, 1], p2[:, 1])\n",
    "        statistic_matrix[phase_id_1 - 1, phase_id_2 - 1] = np.around([resulta.statistic, resultv.statistic], decimals=3)\n",
    "        pval_matrix[phase_id_1 - 1, phase_id_2 - 1] = np.around(2 * np.array([resulta.pvalue, resultv.pvalue]),\n",
    "                                                                decimals=3)\n",
    "        hypo_real_matrix = pval_matrix > 0.9\n",
    "\n",
    "\n",
    "# print(\"real\",hypo_real_matrix[:,:,1])\n",
    "# print(\"pval\",pval_matrix[:,:,1])\n",
    "# print(\"eq\",((hypo_real_matrix | hypo_theoretical_matrix) == hypo_theoretical_matrix)[:,:,1])\n",
    "\n",
    "def format_table(vals, fmt):\n",
    "    out = ''\n",
    "    for i in range(4):\n",
    "        out += r\"& %d & %s && %s\\\\\" % (i + 1,\n",
    "                                       ' & '.join(fmt(a) for a in vals[i, :, 0]),\n",
    "                                       ' & '.join(fmt(v) for v in vals[i, :, 1])) + '\\n'\n",
    "    return out\n",
    "\n",
    "\n",
    "table = r\"\"\"\n",
    "\\begin{table}\n",
    "  \\centering\n",
    "  \\begin{tabular}{rrccccp{0.5cm}cccc}\n",
    "    \\toprule\n",
    "    && \\multicolumn{4}{c}{Arousal} && \\multicolumn{4}{c}{Valence}\\\\\n",
    "    \\cmidrule{3-6}\\cmidrule(r){8-11}\n",
    "    \\verticalField{Estadístico}& Fase & 1 & 2 & 3 & 4 && 1 & 2 & 3 & 4 \\\\\n",
    "    \\cmidrule{3-6}\\cmidrule(r){8-11}\n",
    "\"\"\" + format_table(statistic_matrix, lambda x: \"%d\" % x) + r\"\"\"\n",
    "    \\midrule\n",
    "   && \\multicolumn{4}{c}{Arousal} && \\multicolumn{4}{c}{Valence}\\\\\n",
    "    \\cmidrule{3-6}\\cmidrule(r){8-11}\n",
    "    \\verticalField{$p$-value}& Fase & 1 & 2 & 3 & 4 && 1 & 2 & 3 & 4 \\\\\n",
    "    \\cmidrule{3-6}\\cmidrule(r){8-11}\n",
    "\"\"\" + format_table(pval_matrix, lambda x: \"%1.3f\" % x) + r\"\"\"\n",
    "    \\midrule\n",
    "    && \\multicolumn{4}{c}{Arousal} && \\multicolumn{4}{c}{Valence}\\\\\n",
    "    \\cmidrule{3-6}\\cmidrule(r){8-11}\n",
    "    \\verticalField{$H_0$ aceptada}& Fase & 1 & 2 & 3 & 4 && 1 & 2 & 3 & 4 \\\\\n",
    "    \\cmidrule{3-6}\\cmidrule(r){8-11}\n",
    "\"\"\" + format_table(hypo_real_matrix, lambda x: \"A\" if x else \"NA\") + r\"\"\"\n",
    "    \\bottomrule\n",
    "  \\end{tabular}\n",
    "  \\caption{Resultados de cambios de fase para el participante número \"\"\" + str(SUBJECT + 1) + \"\"\".}\n",
    "  \\label{tab:eeg:\"\"\" + str(SUBJECT + 1) + \"\"\"}\n",
    "\\end{table}\"\"\"\n",
    "\n",
    "save_file(\"hypothesis.tex\", table)\n",
    "\n",
    "result_all = ((hypo_real_matrix | hypo_theoretical_matrix) == hypo_theoretical_matrix).all()\n",
    "if not result_all:\n",
    "    print(\"ERRORRRRRRRRRRRRRRRRRRRRRRRRRRRRRRRRRRRRRR!!!!!!!!!\")\n",
    "\n",
    "# save_matrix(os.path.join(AV_DIR, EPOCH_TYPE, 'v{}_pval_matrix.tex'.format(selected_subject)),pval_matrix)\n",
    "# save_matrix(os.path.join(AV_DIR, EPOCH_TYPE, 'v{}_statistic_matrix.tex'.format(selected_subject)),statistic_matrix,fmt='%d')"
   ]
  },
  {
   "cell_type": "code",
   "execution_count": 14,
   "metadata": {
    "nbpresent": {
     "id": "386d157b-4b83-4b4c-86be-522987069633"
    }
   },
   "outputs": [
    {
     "data": {
      "image/png": "[encoded data removed]",
      "text/plain": [
       "<matplotlib.figure.Figure at 0x7f94d9c86f98>"
      ]
     },
     "metadata": {},
     "output_type": "display_data"
    },
    {
     "name": "stdout",
     "output_type": "stream",
     "text": [
      "show ./data/kd/6-av.pdf\n"
     ]
    }
   ],
   "source": [
    "use = av_session_standarized_scaled\n",
    "\n",
    "plt.close('all')\n",
    "latexify(ratio=0.5)\n",
    "\n",
    "# Subplots sharing both x/y axes\n",
    "f, axes = plt.subplots(2, sharex=True, sharey=True)\n",
    "\n",
    "# Arousal values\n",
    "axes[0].plot(use[:, 1], use[:, 3], color='k', linewidth=0.4)\n",
    "axes[0].set_ylabel('Arousal', rotation=90, labelpad=10, size=10)\n",
    "\n",
    "# Valence values\n",
    "axes[1].plot(use[:, 1], use[:, 4], color='k', linewidth=0.4)\n",
    "axes[1].set_ylabel('Valence', rotation=90, labelpad=10, size=10)\n",
    "axes[1].set_xlabel('Tiempo [s]', rotation=0, labelpad=10, size=10)\n",
    "\n",
    "av_mean = [5, 5]\n",
    "\n",
    "# Separators\n",
    "for i in range(0, 2):\n",
    "\n",
    "    # Horizontal\n",
    "    axes[i].axhline(av_mean[i], color='#111111', linestyle='-', linewidth=0.4)\n",
    "\n",
    "    # Relaxation separators\n",
    "    axes[i].axvline(delta_eeg_relaxation_start, color='#111111', linestyle='--', linewidth=0.4)\n",
    "    #     axes[i].axvline(delta_eeg_relaxation_end, color='k', alpha=0.2, linestyle='--')\n",
    "\n",
    "    axes[i].tick_params(axis='both', direction='in', color='#aaaaaa')\n",
    "    for axis_pos in ['top', 'bottom', 'left', 'right']:\n",
    "        axes[i].spines[axis_pos].set_linewidth(0.4)\n",
    "\n",
    "    # keystroke\n",
    "    for p in timestamps:\n",
    "        axes[i].axvline(timestamps[p]['start'], color='#111111', linestyle='-', linewidth=0.4)\n",
    "        axes[i].axvline(timestamps[p]['end'], color='#111111', linestyle='-', linewidth=0.4)\n",
    "        if 'writing' in timestamps[p]:\n",
    "            sta = timestamps[p]['writing'][0]['timestamp']\n",
    "            end = timestamps[p]['writing'][1]['timestamp']\n",
    "            axes[i].axvspan(sta, end, facecolor='#dddddd', linewidth=0)\n",
    "\n",
    "# Fine-tune figure; make subplots close to each other and hide x ticks for\n",
    "# all but bottom plot.\n",
    "f.subplots_adjust(hspace=0)\n",
    "plt.setp([a.get_xticklabels() for a in f.axes[:-1]], visible=False)\n",
    "\n",
    "plt.draw()\n",
    "show(f, 'av.pdf')"
   ]
  },
  {
   "cell_type": "code",
   "execution_count": 15,
   "metadata": {},
   "outputs": [
    {
     "data": {
      "image/png": "[encoded data removed]",
      "text/plain": [
       "<matplotlib.figure.Figure at 0x7f94da145d68>"
      ]
     },
     "metadata": {},
     "output_type": "display_data"
    },
    {
     "name": "stdout",
     "output_type": "stream",
     "text": [
      "show ./data/kd/6-casoeegsimple.pdf\n"
     ]
    }
   ],
   "source": [
    "# Get current size\n",
    "latexify(ratio=0.2)\n",
    "\n",
    "# Subplots sharing both x/y axes\n",
    "f, ax = plt.subplots()\n",
    "electrode_index = 0\n",
    "\n",
    "#\n",
    "# SIGNALS\n",
    "#\n",
    "\n",
    "# Alpha & beta frequency bands\n",
    "ax.plot(eeg[:, 1], eeg[:, electrode_index + 3], color=str(0.7), linewidth=0.3)\n",
    "\n",
    "# Smoothed signal\n",
    "ax.plot(eeg_smoothed[:, 1], eeg_smoothed[:, electrode_index + 3], color='k', linewidth=0.4)\n",
    "\n",
    "#\n",
    "# LINES\n",
    "#\n",
    "\n",
    "# Relaxation separators\n",
    "ax.axvline(delta_eeg_relaxation_start, color='#111111', linestyle='--', linewidth=0.4)\n",
    "\n",
    "ax.tick_params(axis='both', direction='in', color='#aaaaaa')\n",
    "for axis_pos in ['top', 'bottom', 'left', 'right']:\n",
    "    ax.spines[axis_pos].set_linewidth(0.4)\n",
    "\n",
    "# keystroke\n",
    "for p in timestamps:\n",
    "    ax.axvline(timestamps[p]['start'], color='#111111', linestyle='-', linewidth=0.4)\n",
    "    ax.axvline(timestamps[p]['end'], color='#111111', linestyle='-', linewidth=0.4)\n",
    "    if 'writing' in timestamps[p]:\n",
    "        sta = timestamps[p]['writing'][0]['timestamp']\n",
    "        end = timestamps[p]['writing'][1]['timestamp']\n",
    "        ax.axvspan(sta, end, facecolor='#dddddd', linewidth=0)\n",
    "\n",
    "# Axes limits\n",
    "ax.set_ylim([0, 5])\n",
    "ax.yaxis.set_ticks([0, 5])\n",
    "ax.set_ylabel('$\\\\alpha$  [mV]', rotation=90, labelpad=10, size=10)\n",
    "\n",
    "ax.set_xlabel(\"Tiempo [s]\", rotation=0, labelpad=10, size=10)\n",
    "\n",
    "# draw or save it\n",
    "plt.draw()\n",
    "show(f, 'casoeegsimple.pdf')"
   ]
  },
  {
   "cell_type": "code",
   "execution_count": 16,
   "metadata": {},
   "outputs": [],
   "source": [
    "def get_ticks():\n",
    "    counter = defaultdict(int)\n",
    "    counter['speaking'] = -1\n",
    "    counter['writing'] = -1\n",
    "    counter['assessment'] = -1\n",
    "\n",
    "    translate = {'name': 'Ingreso nombre',\n",
    "                 'personal_data': 'Ingreso datos personales',\n",
    "                 'relaxation': 'Relajaci\\\\\\'on',\n",
    "                 'game': 'Juego',\n",
    "                 'assessment': 'SAM',\n",
    "                 'writing': 'KD',\n",
    "                 'speaking': 'Voz',\n",
    "                 'audio': 'Audio',\n",
    "                 'image': 'Imagen'}\n",
    "\n",
    "    for log in raw['log']:\n",
    "        if log.get('status') == 's':\n",
    "            event = log['event']\n",
    "            loc = relativize_timestamp(log['timestamp'])\n",
    "            if event not in (\n",
    "                    'experiment', 'video_recording', 'stimuli', 'videos', 'samples', 'images', 'audios', 'response'):\n",
    "                counter[event] += 1\n",
    "                if event == 'phase':\n",
    "                    yield (loc, \"{\\\\normalsize Fase %d}\\\\hspace{1.2cm}\\\\ .\" % counter[event])\n",
    "                else:\n",
    "                    if event in ('image', 'audio', 'speaking', 'writing', 'assessment'):\n",
    "                        val = \"%s %d\" % (translate.get(event, event), counter[event])\n",
    "                    else:\n",
    "                        val = translate.get(event, event)\n",
    "                    yield (loc, val)\n"
   ]
  },
  {
   "cell_type": "code",
   "execution_count": 17,
   "metadata": {},
   "outputs": [
    {
     "data": {
      "image/png": "[encoded data removed]",
      "text/plain": [
       "<matplotlib.figure.Figure at 0x7f94d80bf198>"
      ]
     },
     "metadata": {},
     "output_type": "display_data"
    },
    {
     "name": "stdout",
     "output_type": "stream",
     "text": [
      "show ./data/kd/6-casoeeg.pdf\n"
     ]
    }
   ],
   "source": [
    "# Get current size\n",
    "latexify(ratio=1.8,tick_fontsize=5)\n",
    "\n",
    "TOTAL_DIVISIONS=4\n",
    "\n",
    "fig_size = plt.rcParams[\"figure.figsize\"]\n",
    "\n",
    "# Set figure width and height\n",
    "#plt.rcParams[\"figure.figsize\"] = (15, 15)\n",
    "\n",
    "# Subplots sharing both x/y axes\n",
    "f, ax = plt.subplots(1,TOTAL_DIVISIONS)\n",
    "electrode_index = 0\n",
    "\n",
    "tick_except={15,25,40,55}\n",
    "\n",
    "(xticks,xticklabels)=list(zip(*(list(get_ticks())+[(a,\"%d min\"%(a/60)) for a in range(0,3901,300) if a/60 not in tick_except])))\n",
    "plt.setp(ax, yticks=xticks, yticklabels=xticklabels)\n",
    "\n",
    "for i in range(TOTAL_DIVISIONS):\n",
    "    time_min=i*1200\n",
    "    time_max=time_min+1200\n",
    "\n",
    "    #\n",
    "    # SIGNALS\n",
    "    #\n",
    "\n",
    "    # Alpha & beta frequency bands\n",
    "    ax[i].plot(eeg[:, electrode_index + 3],eeg[:, 1],  color=str(0.7), linewidth=0.3)\n",
    "\n",
    "    # Smoothed signal\n",
    "    ax[i].plot(eeg_smoothed[:, electrode_index + 3],eeg_smoothed[:, 1],  color='k', linewidth=0.4)\n",
    "\n",
    "    #\n",
    "    # LINES\n",
    "    #\n",
    "\n",
    "    # Relaxation separators\n",
    "    ax[i].axhline(delta_eeg_relaxation_start, color='#111111', linestyle='--', linewidth=0.4)\n",
    "\n",
    "    ax[i].tick_params(axis='both', direction='in', color='#aaaaaa')\n",
    "\n",
    "    # keystroke\n",
    "    for p in timestamps:\n",
    "        ax[i].axhline(timestamps[p]['start'], color='#111111', linestyle='-', linewidth=0.4)\n",
    "        ax[i].axhline(timestamps[p]['end'], color='#111111', linestyle='-', linewidth=0.4)\n",
    "        if 'writing' in timestamps[p]:\n",
    "            sta = timestamps[p]['writing'][0]['timestamp']\n",
    "            end = timestamps[p]['writing'][1]['timestamp']\n",
    "            ax[i].axhspan(sta, end, facecolor='#dddddd', linewidth=0)\n",
    "\n",
    "    # Axes limits\n",
    "    ax[i].set_xlim([0, 5])\n",
    "    ax[i].xaxis.set_ticks([0, 5])\n",
    "    ax[i].set_xlabel('$\\\\alpha$ [mV]', rotation=0, labelpad=10, size=10)\n",
    "\n",
    "\n",
    "    ax[i].set_ylim([time_max, time_min])\n",
    "    for axis_pos in ['top','bottom','left','right']:\n",
    "        ax[i].spines[axis_pos].set_linewidth(0.4)\n",
    "\n",
    "ax[0].set_ylabel(\"Tiempo [minutos]\", rotation=90, size=10)\n",
    "f.subplots_adjust(wspace=5.3)\n",
    "\n",
    "# draw or save it\n",
    "plt.draw()\n",
    "show(f, 'casoeeg.pdf')"
   ]
  },
  {
   "cell_type": "code",
   "execution_count": 18,
   "metadata": {},
   "outputs": [
    {
     "name": "stdout",
     "output_type": "stream",
     "text": [
      "[(8185, 1), (8030, 1), (5621, 1), (8370, 1), (8492, 1), (8190, 1), (8080, 1), (5833, 1), (1710, 1), (4660, 1), (8470, 1), (8200, 1), (8490, 1), (8186, 1), (8170, 1), (4668, 1), (4659, 1), (8499, 1), (7502, 1), (5825, 1), (4670, 1), (8180, 1), (8400, 1), (7405, 1), (8163, 1), (2340, 4), (1440, 4), (2040, 4), (5830, 4), (2050, 4), (2080, 4), (2070, 4), (1460, 4), (5210, 4), (1750, 4), (2154, 4), (2260, 4), (2550, 4), (7200, 4), (2057, 4), (1920, 4), (5829, 4), (2660, 4), (2091, 4), (1441, 4), (7492, 4), (2165, 4), (1463, 4), (2398, 4), (5982, 4), (8466, 3), (7476, 3), (9468, 3), (2309, 3), (5970, 3), (1945, 3), (6000, 3), (1505, 3), (2810, 3), (9171, 3), (9926, 3), (1280, 3), (1230, 3), (2795, 3), (9182, 3), (7037, 3), (2446, 3), (1270, 3), (2695, 3), (9584, 3), (9186, 3), (9080, 3), (9404, 3), (7520, 3), (2520, 3), (8475, 2), (1321, 2), (1120, 2), (1931, 2), (1726, 2), (6230, 2), (1050, 2), (1300, 2), (6550, 2), (1310, 2), (6350, 2), (1932, 2), (3000, 2), (3010, 2), (1930, 2), (6510, 2), (6900, 2), (1303, 2), (6260, 2), (9940, 2), (3500, 2), (1302, 2), (8480, 2), (1201, 2), (6231, 2)]\n"
     ]
    }
   ],
   "source": [
    "def get_images():\n",
    "    for log in raw['log']:\n",
    "        if log['event']=='image' and log['status']=='s':\n",
    "            phase,image=log['event_id'].split('_')\n",
    "            yield (int(image),int(phase))\n",
    "\n",
    "print(list(get_images()))"
   ]
  },
  {
   "cell_type": "code",
   "execution_count": 19,
   "metadata": {},
   "outputs": [
    {
     "name": "stdout",
     "output_type": "stream",
     "text": [
      "[(1, {True: ('images', 7, 5), False: ('videos', 5, 7)}), (2, {True: ('images', 5, 5), False: ('videos', 4, 5)}), (3, {True: ('images', 4, 3), False: ('videos', 6, 2)}), (4, {True: ('images', 6, 3), False: ('audios', 5, 2)})]\n"
     ]
    }
   ],
   "source": [
    "print(sam_processed) #phase_id, sam_type, sam_arousal, sam_valence"
   ]
  },
  {
   "cell_type": "code",
   "execution_count": null,
   "metadata": {},
   "outputs": [],
   "source": []
  },
  {
   "cell_type": "code",
   "execution_count": 20,
   "metadata": {
    "scrolled": true
   },
   "outputs": [
    {
     "name": "stdout",
     "output_type": "stream",
     "text": [
      "\\begin{tabular}{cp{0.25cm}ccp{0.5cm}ccp{0.5cm}ccccc}\n",
      "  \\toprule\n",
      "  && \\multicolumn{2}{p{1cm}}{\\centering SAM Img. } && \\multicolumn{2}{p{1cm}}{\\centering SAM Video } &&  \\multicolumn{5}{c}{EEG } \\\\\n",
      "  \\cmidrule(l{1mm}r{1mm}){3-4}\\cmidrule(l{1mm}r{1mm}){6-7}\\cmidrule(l{1mm}r{1mm}){9-13}\n",
      "  Fase && A & V &&  A & V &&  A & V &  $\\sigma^2_\\text{A}$ & $\\sigma^2_\\text{V}$ & $\\sigma_\\text{AV}$ \\\\\n",
      "  \\midrule\n",
      "  1 && 7 & 5 &  & 5 & 7 &  &  5.65 &  4.84 &  0.04 &  0.78 & -0.08\\\\\n",
      "  $\\Delta$ && 0 & -2 &  & -1 & -2 &  & -0.22 &  0.00 & \\multicolumn{3}{c}{$\\norm{\\Delta}=0.22$}\\\\\n",
      "  \\hline\n",
      "  2 && 5 & 5 &  & 4 & 5 &  &  5.43 &  4.84 &  0.11 &  0.26 &  0.07\\\\\n",
      "  $\\Delta$ && 0 & -2 &  & 2 & -3 &  & -1.37 &  0.08 & \\multicolumn{3}{c}{$\\norm{\\Delta}=1.37$}\\\\\n",
      "  \\hline\n",
      "  3 && 4 & 3 &  & 6 & 2 &  &  4.06 &  4.92 &  0.07 &  0.40 & -0.14\\\\\n",
      "  $\\Delta$ && 0 & 1 &  & -1 & 0 &  & -0.01 &  2.24 & \\multicolumn{3}{c}{$\\norm{\\Delta}=2.24$}\\\\\n",
      "  \\hline\n",
      "  4 && 6 & 3 &  & 5 & 2 &  &  4.05 &  7.16 &  0.23 &  1.17 & -0.26\\\\\n",
      "  \\bottomrule\n",
      "\\end{tabular}\n",
      "\n"
     ]
    }
   ],
   "source": [
    "def sam_to_av(value_sam):\n",
    "    (_,a,v)=value_sam\n",
    "    return (str(a),str(v))\n",
    "\n",
    "def eeg_to_av(value_eeg):\n",
    "    return tuple('%5.2f' % a for a in value_eeg[::-1])\n",
    "\n",
    "def eeg_errs(eeg_cov):\n",
    "    return tuple('%5.2f' % a for a in eeg_cov[(1,0,0),(1,0,1)])\n",
    "\n",
    "def subtract_sam(s1,s2):\n",
    "    _,a1,v1=s1 #_ is True for images\n",
    "    _,a2,v2=s2\n",
    "    return (str(a2-a1),str(v2-v1))\n",
    "\n",
    "def subtract_eeg(e1,e2):\n",
    "    sub=e2-e1\n",
    "    return tuple(\n",
    "        ['%5.2f' % a for a in (sub[1],sub[0])]+\n",
    "        ['\\\\multicolumn{3}{c}{$\\\\norm{\\\\Delta}=%4.2f$}' % np.linalg.norm(sub)])\n",
    "\n",
    "def postprocess_av():\n",
    "    prev=None\n",
    "    prev_eeg=None\n",
    "    aux=(r\"\"\"\\begin{tabular}{cp{0.25cm}ccp{0.5cm}ccp{0.5cm}ccccc}\n",
    "  \\toprule\n",
    "  && \\multicolumn{2}{p{1cm}}{\\centering SAM Img. } && \\multicolumn{2}{p{1cm}}{\\centering SAM Video } &&  \\multicolumn{5}{c}{EEG } \\\\\n",
    "  \\cmidrule(l{1mm}r{1mm}){3-4}\\cmidrule(l{1mm}r{1mm}){6-7}\\cmidrule(l{1mm}r{1mm}){9-13}\n",
    "  Fase && A & V &&  A & V &&  A & V &  $\\sigma^2_\\text{A}$ & $\\sigma^2_\\text{V}$ & $\\sigma_\\text{AV}$ \\\\\n",
    "  \\midrule\"\"\"+'\\n')\n",
    "    for (phase,eeg_mean,eeg_cov),(_,sam) in zip(eeg_processed,sam_processed):\n",
    "        merged = itertools.chain(sam_to_av(sam[True]),[''],sam_to_av(sam[False]),[''],eeg_to_av(eeg_mean),eeg_errs(eeg_cov))\n",
    "        if prev:\n",
    "            aux+=('  $\\\\Delta$ && '+' & '.join(itertools.chain(subtract_sam(prev[False],sam[True]),[''],\n",
    "                                                   subtract_sam(prev[False],sam[False]),[''],\n",
    "                                                   subtract_eeg(prev_eeg,eeg_mean)))+'\\\\\\\\\\n')\n",
    "            aux+=('  \\\\hline\\n')\n",
    "        aux+=('  %d && '%phase+' & '.join(merged)+'\\\\\\\\\\n')\n",
    "        prev=sam\n",
    "        prev_eeg=eeg_mean\n",
    "\n",
    "    aux+=(r\"\"\"  \\bottomrule\n",
    "\\end{tabular}\"\"\"+'\\n')\n",
    "    return aux\n",
    "\n",
    "save_file(\"summary.tex\", postprocess_av())\n"
   ]
  }
 ],
 "metadata": {
  "anaconda-cloud": {},
  "kernelspec": {
   "display_name": "Python 3",
   "language": "python",
   "name": "python3"
  },
  "language_info": {
   "codemirror_mode": {
    "name": "ipython",
    "version": 3
   },
   "file_extension": ".py",
   "mimetype": "text/x-python",
   "name": "python",
   "nbconvert_exporter": "python",
   "pygments_lexer": "ipython3",
   "version": "3.6.7"
  }
 },
 "nbformat": 4,
 "nbformat_minor": 1
}
